{
 "cells": [
  {
   "cell_type": "markdown",
   "id": "f87c718f",
   "metadata": {},
   "source": [
    "# 테스트 케이스 입력"
   ]
  },
  {
   "cell_type": "code",
   "execution_count": 113,
   "id": "f2fc6ee1",
   "metadata": {},
   "outputs": [
    {
     "name": "stdout",
     "output_type": "stream",
     "text": [
      "3\n"
     ]
    }
   ],
   "source": [
    "tc = input()"
   ]
  },
  {
   "cell_type": "markdown",
   "id": "6bca2aa9",
   "metadata": {},
   "source": [
    "# 문서 갯수 위치 입력"
   ]
  },
  {
   "cell_type": "code",
   "execution_count": 98,
   "id": "199d4e7a",
   "metadata": {},
   "outputs": [
    {
     "name": "stdout",
     "output_type": "stream",
     "text": [
      "6 4\n",
      "1 1 2 2 9 9\n"
     ]
    }
   ],
   "source": [
    "co, lo  = map(int, input().split())#문서 갯수, 위치 입력\n",
    "li = list(map(int,input().split()))"
   ]
  },
  {
   "cell_type": "markdown",
   "id": "cc4e8998",
   "metadata": {},
   "source": [
    "# 값 확인"
   ]
  },
  {
   "cell_type": "code",
   "execution_count": 99,
   "id": "b7e73fc6",
   "metadata": {},
   "outputs": [
    {
     "data": {
      "text/plain": [
       "6"
      ]
     },
     "execution_count": 99,
     "metadata": {},
     "output_type": "execute_result"
    }
   ],
   "source": [
    "co"
   ]
  },
  {
   "cell_type": "code",
   "execution_count": 111,
   "id": "2b1fcc94",
   "metadata": {},
   "outputs": [
    {
     "data": {
      "text/plain": [
       "4"
      ]
     },
     "execution_count": 111,
     "metadata": {},
     "output_type": "execute_result"
    }
   ],
   "source": [
    "lo"
   ]
  },
  {
   "cell_type": "code",
   "execution_count": 101,
   "id": "64eabeb0",
   "metadata": {},
   "outputs": [
    {
     "data": {
      "text/plain": [
       "[1, 1, 2, 2, 9, 9]"
      ]
     },
     "execution_count": 101,
     "metadata": {},
     "output_type": "execute_result"
    }
   ],
   "source": [
    "li"
   ]
  },
  {
   "cell_type": "code",
   "execution_count": 102,
   "id": "3ccb3438",
   "metadata": {},
   "outputs": [
    {
     "data": {
      "text/plain": [
       "9"
      ]
     },
     "execution_count": 102,
     "metadata": {},
     "output_type": "execute_result"
    }
   ],
   "source": [
    "li[lo]"
   ]
  },
  {
   "cell_type": "markdown",
   "id": "e345a427",
   "metadata": {},
   "source": [
    "# 존재하는 중요도값과 갯수 저장을 위한 counter dic 생성"
   ]
  },
  {
   "cell_type": "code",
   "execution_count": 103,
   "id": "fa6c1525",
   "metadata": {},
   "outputs": [],
   "source": [
    "c_d = {}"
   ]
  },
  {
   "cell_type": "code",
   "execution_count": 104,
   "id": "1c5dbbbd",
   "metadata": {},
   "outputs": [],
   "source": [
    "for i in range(1,9+1):\n",
    "    if li.count(i) == 0:\n",
    "        continue\n",
    "    c_d[i] = li.count(i)\n",
    "    "
   ]
  },
  {
   "cell_type": "code",
   "execution_count": 105,
   "id": "70bde92d",
   "metadata": {},
   "outputs": [
    {
     "data": {
      "text/plain": [
       "{1: 2, 2: 2, 9: 2}"
      ]
     },
     "execution_count": 105,
     "metadata": {},
     "output_type": "execute_result"
    }
   ],
   "source": [
    "c_d"
   ]
  },
  {
   "cell_type": "code",
   "execution_count": 106,
   "id": "c8625148",
   "metadata": {
    "scrolled": true
   },
   "outputs": [
    {
     "name": "stdout",
     "output_type": "stream",
     "text": [
      "False\n",
      "True\n",
      "True\n"
     ]
    }
   ],
   "source": [
    "for i in c_d.keys():\n",
    "    print(1<i)"
   ]
  },
  {
   "cell_type": "code",
   "execution_count": 117,
   "id": "5293d05d",
   "metadata": {},
   "outputs": [],
   "source": [
    "s_keys = sorted(c_d.keys())"
   ]
  },
  {
   "cell_type": "markdown",
   "id": "6e039d1c",
   "metadata": {},
   "source": [
    "# 중요도 큐 순으로 프린트"
   ]
  },
  {
   "cell_type": "code",
   "execution_count": 112,
   "id": "0057f835",
   "metadata": {
    "scrolled": true
   },
   "outputs": [
    {
     "name": "stdout",
     "output_type": "stream",
     "text": [
      "1\n",
      "\t 1 == 9 =  False\n",
      "\t lo : 4\n",
      "\t  [1, 2, 2, 9, 9, 1]\n",
      "\t False\n",
      "\t lo : 3\n",
      "1\n",
      "\t 1 == 9 =  False\n",
      "\t lo : 3\n",
      "\t  [2, 2, 9, 9, 1, 1]\n",
      "\t False\n",
      "\t lo : 2\n",
      "2\n",
      "\t 2 == 9 =  False\n",
      "\t lo : 2\n",
      "\t  [2, 9, 9, 1, 1, 2]\n",
      "\t False\n",
      "\t lo : 1\n",
      "2\n",
      "\t 2 == 9 =  False\n",
      "\t lo : 1\n",
      "\t  [9, 9, 1, 1, 2, 2]\n",
      "\t False\n",
      "\t lo : 0\n",
      "9\n",
      "\t 9 == 9 =  True\n",
      "\t \t pop !! 9\n",
      "\t \t \t 0\n",
      "\t \t \t True\n",
      "\t \t \t seq :  1\n"
     ]
    }
   ],
   "source": [
    "lis = list(li)\n",
    "seq = 0\n",
    "c_di = c_d.copy()\n",
    "\n",
    "while 0 != len(lis):\n",
    "\n",
    "    print(lis[0])\n",
    "    print(f'\\t {lis[0]} == {max(c_di.keys())} = ', lis[0] == max(c_di.keys()))\n",
    "        \n",
    "    # 만약 현재 인덱스의 리스트 값이 최대값일때\n",
    "    if lis[0] == max(c_di.keys()) :\n",
    "        \n",
    "        seq += 1\n",
    "        print('\\t','\\t pop !!',lis[0])\n",
    "           \n",
    "        if lo == 0:\n",
    "            print('\\t','\\t','\\t',lo)\n",
    "            print('\\t','\\t','\\t',lo == 0)\n",
    "            print('\\t','\\t','\\t','seq : ',seq)\n",
    "            break        \n",
    "        \n",
    "        \n",
    "        \n",
    "        print('\\t','\\t',c_di)        \n",
    "        c_di[lis[0]] = c_di[lis[0]] - 1\n",
    "        print('\\t','\\t',c_di)\n",
    "            \n",
    "        if c_di[lis[0]] == 0:\n",
    "            del c_di[lis[0]]\n",
    "            \n",
    "        del lis[0]\n",
    "        lo -= 1\n",
    "        \n",
    "        print('\\t','\\t',c_di)\n",
    "        print('\\t','\\t',lis)\n",
    "        print('\\t','\\t',lo)\n",
    "        \n",
    "        \n",
    "    # 만약 현재 인덱스의 리스트 값이 최대값이 아닐때\n",
    "    else:\n",
    "        lis.append(lis[0])\n",
    "        lis.remove(lis[0])\n",
    "        \n",
    "        print('\\t lo :', lo)\n",
    "        print('\\t ',lis)\n",
    "        print('\\t', lo == 0)\n",
    "        if lo == 0:\n",
    "                \n",
    "            print('\\t','\\t','\\t',lo)\n",
    "            lo = len(lis)\n",
    "            print('\\t','\\t','\\t',lo)\n",
    "            \n",
    "        lo -= 1\n",
    "        print('\\t lo :', lo)"
   ]
  },
  {
   "cell_type": "markdown",
   "id": "5b5519fa",
   "metadata": {},
   "source": [
    "# 그 외 기타 테스트"
   ]
  },
  {
   "cell_type": "code",
   "execution_count": 31,
   "id": "eea60a9a",
   "metadata": {
    "scrolled": true
   },
   "outputs": [
    {
     "data": {
      "text/plain": [
       "False"
      ]
     },
     "execution_count": 31,
     "metadata": {},
     "output_type": "execute_result"
    }
   ],
   "source": [
    "9 < 9"
   ]
  },
  {
   "cell_type": "code",
   "execution_count": 66,
   "id": "9a4bedec",
   "metadata": {},
   "outputs": [],
   "source": [
    "dic = {1:1}"
   ]
  },
  {
   "cell_type": "code",
   "execution_count": 67,
   "id": "41576a02",
   "metadata": {},
   "outputs": [
    {
     "data": {
      "text/plain": [
       "1"
      ]
     },
     "execution_count": 67,
     "metadata": {},
     "output_type": "execute_result"
    }
   ],
   "source": [
    "dic[1]"
   ]
  },
  {
   "cell_type": "code",
   "execution_count": 70,
   "id": "f32ff0b3",
   "metadata": {},
   "outputs": [
    {
     "data": {
      "text/plain": [
       "6"
      ]
     },
     "execution_count": 70,
     "metadata": {},
     "output_type": "execute_result"
    }
   ],
   "source": [
    "dic[1] += 2\n",
    "dic[1]"
   ]
  },
  {
   "cell_type": "markdown",
   "id": "03cc8887",
   "metadata": {},
   "source": [
    "# 백준 용"
   ]
  },
  {
   "cell_type": "code",
   "execution_count": null,
   "id": "be6d1c36",
   "metadata": {},
   "outputs": [],
   "source": [
    "from sys import stdin\n",
    "def main():\n",
    "    co, lo  = map(int, stdin.readline().split(' '))# 문서 갯수, 위치 입력\n",
    "    li = list(map(int,stdin.readline().split(' ')))# 문서들의 중요도값 입력\n",
    "\n",
    "    c_d = {}                                    # 문서들의 중요도값과 해당 중요도값의 갯수를 저장하기 위한 딕셔너리 선언 \n",
    "\n",
    "                                                # 딕셔너리 값 넣기\n",
    "    for i in set(li):\n",
    "        if li.count(i) == 0:\n",
    "            continue\n",
    "        c_d[i] = li.count(i)                    # (키 : 중요도, value : 중요도가 같은 문서들의 갯수) 로 딕셔너리 item 추가\n",
    "\n",
    "    seq = 0                                     # 출력 순서를 저장할 변수 선언\n",
    "\n",
    "                                                # 입력받은 리스트가 다 출력될때 까지 수행하자(물론 중간에 궁금한 리스트 출력될때 중단할 것이다.)\n",
    "    while 0 != len(li):\n",
    "            \n",
    "                                                # 만약 현재 인덱스의 리스트 값이 최대값일때\n",
    "        if li[0] == max(c_d.keys()) :\n",
    "            \n",
    "            seq += 1                            # 순번을 갱신하자\n",
    "            \n",
    "                                                # 만약 알고자 하던 문서가 출력될 차례라면\n",
    "            if lo == 0:\n",
    "                return seq                      # 순서를 반환하고 함수를 종료하자\n",
    "            \n",
    "\n",
    "            c_d[li[0]] = c_d[li[0]] - 1         # 해당 중요도 문서 하나가 출력되어서 리스트에 더이상 없으므로 딕셔너리 갱신\n",
    "\n",
    "                \n",
    "                                                # 해당 문서의 중요도 의 갯수가 0 이면 키에 해당하는 item 삭제\n",
    "            if c_d[li[0]] == 0: \n",
    "                del c_d[li[0]]\n",
    "                \n",
    "                                                # 리스트 갱신\n",
    "            del li[0]\n",
    "            lo -= 1                             # 궁금한 문서의 위치 갱신\n",
    "            \n",
    "            \n",
    "                                                # 만약 현재 인덱스의 리스트 값이 최대값이 아닐때\n",
    "        else:\n",
    "                                                # 큐를 수행하자\n",
    "            li.append(li[0])                        # 첫번쨰 리스트의 요소를 리스트 맨뒤인덱스에 추가\n",
    "            li.remove(li[0])                        # 첫번쨰 리스트의 요소를 삭제\n",
    "\n",
    "                                                # 만약 알고자 하던 문서가 큐 수행 당했을 땐\n",
    "            if lo == 0: \n",
    "                    \n",
    "                lo = len(li)                    # 위치를 문서 맨 뒷자리 + 1 로 설정해주자 (이유는 if 문 끝나면 -1 이 수행되기 때문)\n",
    "                \n",
    "            lo -= 1                             # 궁금한 문서 위치 1 감소시키자\n",
    "\n",
    "if __name__ == '__main__':\n",
    "    for _ in range(int(stdin.readline())):# 테스트 케이스 만큼 실행\n",
    "        print(main()) # 순서를 출력하자"
   ]
  },
  {
   "cell_type": "code",
   "execution_count": null,
   "id": "bcefb7bc",
   "metadata": {},
   "outputs": [],
   "source": []
  }
 ],
 "metadata": {
  "kernelspec": {
   "display_name": "Python 3 (ipykernel)",
   "language": "python",
   "name": "python3"
  },
  "language_info": {
   "codemirror_mode": {
    "name": "ipython",
    "version": 3
   },
   "file_extension": ".py",
   "mimetype": "text/x-python",
   "name": "python",
   "nbconvert_exporter": "python",
   "pygments_lexer": "ipython3",
   "version": "3.8.10"
  }
 },
 "nbformat": 4,
 "nbformat_minor": 5
}
